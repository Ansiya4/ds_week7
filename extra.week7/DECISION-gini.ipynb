{
 "cells": [
  {
   "cell_type": "code",
   "execution_count": 1,
   "id": "7c9f7045-0acc-4976-9741-54fbf1f08164",
   "metadata": {},
   "outputs": [],
   "source": [
    "import pandas as pd"
   ]
  },
  {
   "cell_type": "code",
   "execution_count": 3,
   "id": "21b6ea7e-c1b9-424b-ac14-0a2cdd9a57d7",
   "metadata": {},
   "outputs": [],
   "source": [
    "data=pd.read_csv('data/play_tennis.csv')"
   ]
  },
  {
   "cell_type": "code",
   "execution_count": 4,
   "id": "7c1104a1-93d6-40bb-b68d-3815ce1afd3d",
   "metadata": {},
   "outputs": [
    {
     "data": {
      "text/html": [
       "<div>\n",
       "<style scoped>\n",
       "    .dataframe tbody tr th:only-of-type {\n",
       "        vertical-align: middle;\n",
       "    }\n",
       "\n",
       "    .dataframe tbody tr th {\n",
       "        vertical-align: top;\n",
       "    }\n",
       "\n",
       "    .dataframe thead th {\n",
       "        text-align: right;\n",
       "    }\n",
       "</style>\n",
       "<table border=\"1\" class=\"dataframe\">\n",
       "  <thead>\n",
       "    <tr style=\"text-align: right;\">\n",
       "      <th></th>\n",
       "      <th>day</th>\n",
       "      <th>outlook</th>\n",
       "      <th>temp</th>\n",
       "      <th>humidity</th>\n",
       "      <th>wind</th>\n",
       "      <th>play</th>\n",
       "    </tr>\n",
       "  </thead>\n",
       "  <tbody>\n",
       "    <tr>\n",
       "      <th>0</th>\n",
       "      <td>D1</td>\n",
       "      <td>Sunny</td>\n",
       "      <td>Hot</td>\n",
       "      <td>High</td>\n",
       "      <td>Weak</td>\n",
       "      <td>No</td>\n",
       "    </tr>\n",
       "    <tr>\n",
       "      <th>1</th>\n",
       "      <td>D2</td>\n",
       "      <td>Sunny</td>\n",
       "      <td>Hot</td>\n",
       "      <td>High</td>\n",
       "      <td>Strong</td>\n",
       "      <td>No</td>\n",
       "    </tr>\n",
       "    <tr>\n",
       "      <th>2</th>\n",
       "      <td>D3</td>\n",
       "      <td>Overcast</td>\n",
       "      <td>Hot</td>\n",
       "      <td>High</td>\n",
       "      <td>Weak</td>\n",
       "      <td>Yes</td>\n",
       "    </tr>\n",
       "    <tr>\n",
       "      <th>3</th>\n",
       "      <td>D4</td>\n",
       "      <td>Rain</td>\n",
       "      <td>Mild</td>\n",
       "      <td>High</td>\n",
       "      <td>Weak</td>\n",
       "      <td>Yes</td>\n",
       "    </tr>\n",
       "    <tr>\n",
       "      <th>4</th>\n",
       "      <td>D5</td>\n",
       "      <td>Rain</td>\n",
       "      <td>Cool</td>\n",
       "      <td>Normal</td>\n",
       "      <td>Weak</td>\n",
       "      <td>Yes</td>\n",
       "    </tr>\n",
       "    <tr>\n",
       "      <th>5</th>\n",
       "      <td>D6</td>\n",
       "      <td>Rain</td>\n",
       "      <td>Cool</td>\n",
       "      <td>Normal</td>\n",
       "      <td>Strong</td>\n",
       "      <td>No</td>\n",
       "    </tr>\n",
       "    <tr>\n",
       "      <th>6</th>\n",
       "      <td>D7</td>\n",
       "      <td>Overcast</td>\n",
       "      <td>Cool</td>\n",
       "      <td>Normal</td>\n",
       "      <td>Strong</td>\n",
       "      <td>Yes</td>\n",
       "    </tr>\n",
       "    <tr>\n",
       "      <th>7</th>\n",
       "      <td>D8</td>\n",
       "      <td>Sunny</td>\n",
       "      <td>Mild</td>\n",
       "      <td>High</td>\n",
       "      <td>Weak</td>\n",
       "      <td>No</td>\n",
       "    </tr>\n",
       "    <tr>\n",
       "      <th>8</th>\n",
       "      <td>D9</td>\n",
       "      <td>Sunny</td>\n",
       "      <td>Cool</td>\n",
       "      <td>Normal</td>\n",
       "      <td>Weak</td>\n",
       "      <td>Yes</td>\n",
       "    </tr>\n",
       "    <tr>\n",
       "      <th>9</th>\n",
       "      <td>D10</td>\n",
       "      <td>Rain</td>\n",
       "      <td>Mild</td>\n",
       "      <td>Normal</td>\n",
       "      <td>Weak</td>\n",
       "      <td>Yes</td>\n",
       "    </tr>\n",
       "    <tr>\n",
       "      <th>10</th>\n",
       "      <td>D11</td>\n",
       "      <td>Sunny</td>\n",
       "      <td>Mild</td>\n",
       "      <td>Normal</td>\n",
       "      <td>Strong</td>\n",
       "      <td>Yes</td>\n",
       "    </tr>\n",
       "    <tr>\n",
       "      <th>11</th>\n",
       "      <td>D12</td>\n",
       "      <td>Overcast</td>\n",
       "      <td>Mild</td>\n",
       "      <td>High</td>\n",
       "      <td>Strong</td>\n",
       "      <td>Yes</td>\n",
       "    </tr>\n",
       "    <tr>\n",
       "      <th>12</th>\n",
       "      <td>D13</td>\n",
       "      <td>Overcast</td>\n",
       "      <td>Hot</td>\n",
       "      <td>Normal</td>\n",
       "      <td>Weak</td>\n",
       "      <td>Yes</td>\n",
       "    </tr>\n",
       "    <tr>\n",
       "      <th>13</th>\n",
       "      <td>D14</td>\n",
       "      <td>Rain</td>\n",
       "      <td>Mild</td>\n",
       "      <td>High</td>\n",
       "      <td>Strong</td>\n",
       "      <td>No</td>\n",
       "    </tr>\n",
       "  </tbody>\n",
       "</table>\n",
       "</div>"
      ],
      "text/plain": [
       "    day   outlook  temp humidity    wind play\n",
       "0    D1     Sunny   Hot     High    Weak   No\n",
       "1    D2     Sunny   Hot     High  Strong   No\n",
       "2    D3  Overcast   Hot     High    Weak  Yes\n",
       "3    D4      Rain  Mild     High    Weak  Yes\n",
       "4    D5      Rain  Cool   Normal    Weak  Yes\n",
       "5    D6      Rain  Cool   Normal  Strong   No\n",
       "6    D7  Overcast  Cool   Normal  Strong  Yes\n",
       "7    D8     Sunny  Mild     High    Weak   No\n",
       "8    D9     Sunny  Cool   Normal    Weak  Yes\n",
       "9   D10      Rain  Mild   Normal    Weak  Yes\n",
       "10  D11     Sunny  Mild   Normal  Strong  Yes\n",
       "11  D12  Overcast  Mild     High  Strong  Yes\n",
       "12  D13  Overcast   Hot   Normal    Weak  Yes\n",
       "13  D14      Rain  Mild     High  Strong   No"
      ]
     },
     "execution_count": 4,
     "metadata": {},
     "output_type": "execute_result"
    }
   ],
   "source": [
    "data"
   ]
  },
  {
   "cell_type": "code",
   "execution_count": 5,
   "id": "01681a3c-d213-4d32-96f2-548e3b604ad9",
   "metadata": {},
   "outputs": [
    {
     "data": {
      "text/plain": [
       "14"
      ]
     },
     "execution_count": 5,
     "metadata": {},
     "output_type": "execute_result"
    }
   ],
   "source": [
    "len(data)"
   ]
  },
  {
   "cell_type": "code",
   "execution_count": 6,
   "id": "91ef10c1-188d-4fb2-891f-4f8ed2aa17e8",
   "metadata": {},
   "outputs": [
    {
     "name": "stdout",
     "output_type": "stream",
     "text": [
      "Gini Impurity for outlook: 0.34285714285714286\n"
     ]
    }
   ],
   "source": [
    "feature_to_calculate = 'outlook'\n",
    "\n",
    "gini_impurity = 1.0  # Initialize the Gini impurity\n",
    "\n",
    "unique_values = data[feature_to_calculate].unique()\n",
    "\n",
    "# Calculate the Gini impurity for each unique value of the feature\n",
    "for value in unique_values:\n",
    "    subset = data[data[feature_to_calculate] == value]\n",
    "    prob_value = len(subset) / len(data)\n",
    "    prob_yes = len(subset[subset['play'] == 'Yes']) / len(subset)\n",
    "    prob_no = len(subset[subset['play'] == 'No']) / len(subset)\n",
    "    gini_impurity -= prob_value * (prob_yes**2 + prob_no**2)\n",
    "\n",
    "print(f'Gini Impurity for {feature_to_calculate}: {gini_impurity}')"
   ]
  },
  {
   "cell_type": "code",
   "execution_count": 7,
   "id": "8a8d21c4-6f1a-4881-a3b3-9f62528018a6",
   "metadata": {},
   "outputs": [
    {
     "name": "stdout",
     "output_type": "stream",
     "text": [
      "Gini Impurity for temp: 0.4404761904761905\n"
     ]
    }
   ],
   "source": [
    "\n",
    "feature_to_calculate = 'temp'\n",
    "gini_impurity = 1.0  # Initialize the Gini impurity\n",
    "\n",
    "# Get the unique values of the feature\n",
    "unique_values = data[feature_to_calculate].unique()\n",
    "\n",
    "for value in unique_values:\n",
    "    subset = data[data[feature_to_calculate] == value]\n",
    "    prob_value = len(subset) / len(data)\n",
    "    prob_yes = len(subset[subset['play'] == 'Yes']) / len(subset)\n",
    "    prob_no = len(subset[subset['play'] == 'No']) / len(subset)\n",
    "    gini_impurity -= prob_value * (prob_yes**2 + prob_no**2)\n",
    "\n",
    "print(f'Gini Impurity for {feature_to_calculate}: {gini_impurity}')"
   ]
  },
  {
   "cell_type": "code",
   "execution_count": 8,
   "id": "abb160ee-dd60-488c-8194-523e56375b51",
   "metadata": {},
   "outputs": [
    {
     "name": "stdout",
     "output_type": "stream",
     "text": [
      "Gini Impurity for humidity: 0.3673469387755103\n"
     ]
    }
   ],
   "source": [
    "feature_to_calculate = 'humidity'\n",
    "gini_impurity = 1.0  # Initialize the Gini impurity\n",
    "\n",
    "unique_values = data[feature_to_calculate].unique()\n",
    "for value in unique_values:\n",
    "    subset = data[data[feature_to_calculate] == value]\n",
    "    prob_value = len(subset) / len(data)\n",
    "    prob_yes = len(subset[subset['play'] == 'Yes']) / len(subset)\n",
    "    prob_no = len(subset[subset['play'] == 'No']) / len(subset)\n",
    "    gini_impurity -= prob_value * (prob_yes**2 + prob_no**2)\n",
    "\n",
    "print(f'Gini Impurity for {feature_to_calculate}: {gini_impurity}')"
   ]
  },
  {
   "cell_type": "code",
   "execution_count": 9,
   "id": "1e93d2a2-f14e-462f-b46d-2027b0544575",
   "metadata": {},
   "outputs": [
    {
     "name": "stdout",
     "output_type": "stream",
     "text": [
      "Gini Impurity for wind: 0.4285714285714286\n"
     ]
    }
   ],
   "source": [
    "\n",
    "feature_to_calculate = 'wind'\n",
    "gini_impurity = 1.0  # Initialize the Gini impurity\n",
    "\n",
    "unique_values = data[feature_to_calculate].unique()\n",
    "for value in unique_values:\n",
    "    subset = data[data[feature_to_calculate] == value]\n",
    "    prob_value = len(subset) / len(data)\n",
    "    prob_yes = len(subset[subset['play'] == 'Yes']) / len(subset)\n",
    "    prob_no = len(subset[subset['play'] == 'No']) / len(subset)\n",
    "    gini_impurity -= prob_value * (prob_yes**2 + prob_no**2)\n",
    "\n",
    "print(f'Gini Impurity for {feature_to_calculate}: {gini_impurity}')"
   ]
  },
  {
   "cell_type": "code",
   "execution_count": null,
   "id": "ba93ba89-442c-4ffc-a0ab-ba26f62da964",
   "metadata": {},
   "outputs": [],
   "source": []
  },
  {
   "cell_type": "code",
   "execution_count": null,
   "id": "bb1a5787-1020-42f2-9e0b-031dd8baedec",
   "metadata": {},
   "outputs": [],
   "source": []
  }
 ],
 "metadata": {
  "kernelspec": {
   "display_name": "Python 3 (ipykernel)",
   "language": "python",
   "name": "python3"
  },
  "language_info": {
   "codemirror_mode": {
    "name": "ipython",
    "version": 3
   },
   "file_extension": ".py",
   "mimetype": "text/x-python",
   "name": "python",
   "nbconvert_exporter": "python",
   "pygments_lexer": "ipython3",
   "version": "3.10.10"
  }
 },
 "nbformat": 4,
 "nbformat_minor": 5
}
